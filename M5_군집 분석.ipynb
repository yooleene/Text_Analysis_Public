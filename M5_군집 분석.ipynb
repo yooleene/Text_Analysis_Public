{
  "cells": [
    {
      "attachments": {},
      "cell_type": "markdown",
      "metadata": {
        "id": "yRJPtXEaccx9"
      },
      "source": [
        "## <b>M5_군집 분석(Cluster Analysis)</b>"
      ]
    },
    {
      "attachments": {},
      "cell_type": "markdown",
      "metadata": {},
      "source": [
        "- 군집 분석은 데이터의 특성에 따라 유사한 것끼리 묶은 것이다.\n",
        "- 유사성을 기반으로 군집을 분류하고, 군집에 따라 유형별 특징을 분석하는 기법이다.\n",
        "- 텍스트에 대한 군집 분석에서는 군집으로 묶여진 텍스트들끼리는 최대한 유사하고, 다른 군집으로 묶여진 텍스트들과는 최대한 유사하지 않도록 분류하는 것이다."
      ]
    },
    {
      "attachments": {},
      "cell_type": "markdown",
      "metadata": {
        "id": "VTtgEyisEzZs"
      },
      "source": [
        "### 1. 텍스트 유사도(Text Similarity)\n",
        "\n",
        "- 텍스트 유사도는 대표적으로 텍스트 쌍에 대한 자카드 유사도와 코사인 유사도로 계산할 수 있다.\n",
        "- 자카드 유사도(Jaccard Similarity): 두 텍스트 문서 사이에 공통된 용어의 수와 해당 텍스트에 존재하는 총 고유 용어 수의 비율을 사용한다.\n",
        "- 코사인 유사도(Cosine Similarity): 두 벡터 간의 코사인 각도를 이용하여 구할 수 있는 유사도 계산 방식이다."
      ]
    },
    {
      "attachments": {},
      "cell_type": "markdown",
      "metadata": {},
      "source": [
        "> 자카드 유사도"
      ]
    },
    {
      "attachments": {},
      "cell_type": "markdown",
      "metadata": {},
      "source": [
        "<img src='images/jaccard1.png' width='300px'><img src='images/jaccard2.png' width='400px'>\n",
        "  \n",
        "- A, B 두개의 집합이 있다고 할 때, 합집합에서 교집합의 비율을 구함으로써 유사도를 계산 방식이다.\n",
        "\n",
        "  ###### * 출처 : https://blog.naver.com/sw4r/222223674842"
      ]
    },
    {
      "attachments": {},
      "cell_type": "markdown",
      "metadata": {},
      "source": [
        ">> 데이터 입력"
      ]
    },
    {
      "cell_type": "code",
      "execution_count": null,
      "metadata": {},
      "outputs": [],
      "source": [
        "d1 = \"The sky is blue\"\n",
        "d2 = \"The sun is bright\" \n",
        "d3 = \"The sun in the sky is bright\""
      ]
    },
    {
      "attachments": {},
      "cell_type": "markdown",
      "metadata": {},
      "source": [
        ">> 자카드 유사도 함수 생성"
      ]
    },
    {
      "cell_type": "code",
      "execution_count": null,
      "metadata": {
        "id": "l-7nbG1VE-cz"
      },
      "outputs": [],
      "source": [
        "from nltk import word_tokenize\n",
        "from nltk.stem import WordNetLemmatizer"
      ]
    },
    {
      "cell_type": "code",
      "execution_count": null,
      "metadata": {
        "id": "SOWHS-UBFXLc"
      },
      "outputs": [],
      "source": [
        "def jaccard_similarity(d1, d2):\n",
        "    lemmatizer = WordNetLemmatizer() \n",
        "    \n",
        "    words1 = [lemmatizer.lemmatize(word.lower()) for word in word_tokenize(d1)]\n",
        "    words2 = [lemmatizer.lemmatize(word.lower()) for word in word_tokenize(d2)]\n",
        "    inter = len(set(words1).intersection(set(words2))) \n",
        "    union = len(set(words1).union(set(words2))) \n",
        "\n",
        "    return inter/union "
      ]
    },
    {
      "attachments": {},
      "cell_type": "markdown",
      "metadata": {},
      "source": [
        ">> 자카드 유사도 계산"
      ]
    },
    {
      "cell_type": "code",
      "execution_count": null,
      "metadata": {
        "id": "6NZjjhnHHlOd"
      },
      "outputs": [],
      "source": [
        "print(jaccard_similarity(d1, d2))\n",
        "print(jaccard_similarity(d1, d3))\n",
        "print(jaccard_similarity(d2, d3))"
      ]
    },
    {
      "attachments": {},
      "cell_type": "markdown",
      "metadata": {},
      "source": [
        "> 코사인 유사도"
      ]
    },
    {
      "attachments": {},
      "cell_type": "markdown",
      "metadata": {},
      "source": [
        "<img src='images/cos.png' width='980px'>\n",
        "\n",
        "- 두 벡터의 방향이 완전히 동일한 경우에는 1의 값을 가지며, 90°의 각일때 0, 반대방향이면 -1의 값을 가진다.\n",
        "- 코사인 유사도는 -1 이상 1 이하의 값을 가지며 값이 1에 가까울수록 유사도가 높다고 판단할 수 있다."
      ]
    },
    {
      "attachments": {},
      "cell_type": "markdown",
      "metadata": {},
      "source": [
        ">> tf-idf vectorizer 객체 생성"
      ]
    },
    {
      "cell_type": "code",
      "execution_count": null,
      "metadata": {},
      "outputs": [],
      "source": [
        "from sklearn.feature_extraction.text import TfidfVectorizer\n",
        "from sklearn.metrics.pairwise import cosine_similarity\n",
        "\n",
        "import numpy as np\n",
        "\n",
        "tfidf_vectorizer = TfidfVectorizer()"
      ]
    },
    {
      "attachments": {},
      "cell_type": "markdown",
      "metadata": {},
      "source": [
        ">> tf-idf 계산"
      ]
    },
    {
      "cell_type": "code",
      "execution_count": null,
      "metadata": {},
      "outputs": [],
      "source": [
        "docs = np.array([d1,d2,d3])\n",
        "\n",
        "tfidf_matrix = tfidf_vectorizer.fit_transform(docs)\n",
        "\n",
        "print(tfidf_matrix)"
      ]
    },
    {
      "attachments": {},
      "cell_type": "markdown",
      "metadata": {},
      "source": [
        ">> 코사인 유사도 계산"
      ]
    },
    {
      "attachments": {},
      "cell_type": "markdown",
      "metadata": {},
      "source": [
        "- 각 문서간 유사도"
      ]
    },
    {
      "cell_type": "code",
      "execution_count": null,
      "metadata": {},
      "outputs": [],
      "source": [
        "similarity = cosine_similarity(tfidf_matrix, tfidf_matrix)\n",
        "print(similarity)"
      ]
    },
    {
      "attachments": {},
      "cell_type": "markdown",
      "metadata": {},
      "source": [
        "- 시각화"
      ]
    },
    {
      "cell_type": "code",
      "execution_count": null,
      "metadata": {},
      "outputs": [],
      "source": [
        "import matplotlib.pyplot as plt\n",
        "import seaborn as sns\n",
        "\n",
        "similarity = cosine_similarity(tfidf_matrix, tfidf_matrix)\n",
        "print(similarity)\n",
        "\n",
        "map = sns.heatmap(similarity, xticklabels=docs, yticklabels=docs, cmap='viridis')\n",
        "map.figure.set_size_inches(10, 7)\n",
        "plt.show();"
      ]
    },
    {
      "attachments": {},
      "cell_type": "markdown",
      "metadata": {
        "id": "jmVii1zTce9E"
      },
      "source": [
        "### 2. 군집화를 위한 데이터 전처리"
      ]
    },
    {
      "attachments": {},
      "cell_type": "markdown",
      "metadata": {},
      "source": [
        "- 네이버 영화 리뷰 데이터 : https://raw.githubusercontent.com/e9t/nsmc/master/ratings.txt"
      ]
    },
    {
      "attachments": {},
      "cell_type": "markdown",
      "metadata": {},
      "source": [
        "- 리뷰 데이터 읽기"
      ]
    },
    {
      "cell_type": "code",
      "execution_count": null,
      "metadata": {},
      "outputs": [],
      "source": [
        "f = open('data_set/ratings.txt', 'r', encoding='utf-8') \n",
        "raw = f.readlines()\n",
        "print(raw[:3])"
      ]
    },
    {
      "attachments": {},
      "cell_type": "markdown",
      "metadata": {},
      "source": [
        "- 리뷰 데이터만 추출"
      ]
    },
    {
      "cell_type": "code",
      "execution_count": null,
      "metadata": {
        "id": "Gcpkxp0icHTK"
      },
      "outputs": [],
      "source": [
        "reviews = []\n",
        "for i in raw:\n",
        "    reviews.append(i.split(\"\\t\")[1])\n",
        "\n",
        "print(reviews[:5])"
      ]
    },
    {
      "attachments": {},
      "cell_type": "markdown",
      "metadata": {},
      "source": [
        "- 'document' 제외"
      ]
    },
    {
      "cell_type": "code",
      "execution_count": null,
      "metadata": {},
      "outputs": [],
      "source": [
        "reviews = reviews[1:]\n",
        "print(reviews[:5])"
      ]
    },
    {
      "attachments": {},
      "cell_type": "markdown",
      "metadata": {},
      "source": [
        "- 형태소 분석 : 2차원 리스트로 명사만 추출"
      ]
    },
    {
      "cell_type": "code",
      "execution_count": null,
      "metadata": {
        "id": "8UXKdQxye2Lm"
      },
      "outputs": [],
      "source": [
        "from kiwipiepy import Kiwi\n",
        "from kiwipiepy.utils import Stopwords\n",
        "from tqdm import tqdm\n",
        "\n",
        "kiwi = Kiwi()\n",
        "\n",
        "reviews_token = []\n",
        "\n",
        "stopwords = Stopwords()\n",
        "\n",
        "for review in tqdm(reviews):\n",
        "      token = kiwi.tokenize(review, stopwords=stopwords)\n",
        "      review_token = []\n",
        "      for t in token:\n",
        "            if t.tag[0] == 'N': review_token.append(t.form)\n",
        "      reviews_token.append(review_token)"
      ]
    },
    {
      "cell_type": "code",
      "execution_count": null,
      "metadata": {},
      "outputs": [],
      "source": [
        "print(reviews_token[:5])"
      ]
    },
    {
      "attachments": {},
      "cell_type": "markdown",
      "metadata": {
        "id": "qDBX_LypciM-"
      },
      "source": [
        "### 3. Word2Vec 생성"
      ]
    },
    {
      "attachments": {},
      "cell_type": "markdown",
      "metadata": {
        "id": "yXYVPJ2CUtW-"
      },
      "source": [
        "* `Word2Vec` 모델을 생성한다.\n",
        "* `gensim`의 `Word2Vec`은 선언과 동시에 학습을 해 단어 벡터들을 생성한다."
      ]
    },
    {
      "attachments": {},
      "cell_type": "markdown",
      "metadata": {},
      "source": [
        "> word2vec 모델 생성"
      ]
    },
    {
      "cell_type": "code",
      "execution_count": null,
      "metadata": {
        "id": "4m3e4uXkcosI"
      },
      "outputs": [],
      "source": [
        "from gensim.models import Word2Vec\n",
        "from sklearn.manifold import TSNE\n",
        "from matplotlib import font_manager as fm\n",
        "from matplotlib import rc"
      ]
    },
    {
      "cell_type": "code",
      "execution_count": null,
      "metadata": {
        "id": "PReikYb7nfIg"
      },
      "outputs": [],
      "source": [
        "word2vec = Word2Vec(reviews_token, min_count=5)\n",
        "word2vec"
      ]
    },
    {
      "attachments": {},
      "cell_type": "markdown",
      "metadata": {},
      "source": [
        "> 영화와 유사한 단어 추출"
      ]
    },
    {
      "cell_type": "code",
      "execution_count": null,
      "metadata": {
        "id": "Jx3Prw-hnfPC"
      },
      "outputs": [],
      "source": [
        "sim = word2vec.wv.most_similar(\"영화\")\n",
        "print(sim)"
      ]
    },
    {
      "attachments": {},
      "cell_type": "markdown",
      "metadata": {
        "id": "V90Ql6QzVuQm"
      },
      "source": [
        "> t-sne을 이용한 단어 벡터 시각화"
      ]
    },
    {
      "cell_type": "code",
      "execution_count": null,
      "metadata": {
        "id": "anGrbCTinfVl"
      },
      "outputs": [],
      "source": []
    },
    {
      "attachments": {},
      "cell_type": "markdown",
      "metadata": {},
      "source": [
        "> 어휘간 유사도 계산"
      ]
    },
    {
      "cell_type": "code",
      "execution_count": null,
      "metadata": {},
      "outputs": [],
      "source": []
    },
    {
      "attachments": {},
      "cell_type": "markdown",
      "metadata": {},
      "source": [
        "> 데이터 프레임으로 변환"
      ]
    },
    {
      "cell_type": "code",
      "execution_count": null,
      "metadata": {},
      "outputs": [],
      "source": [
        "import pandas as pd\n",
        "\n",
        "transform_similarity = tsne.fit_transform(similarity) \n",
        "df = pd.DataFrame(transform_similarity, index=vocab, columns=[\"x\", \"y\"]) \n",
        "df[0:10]"
      ]
    },
    {
      "attachments": {},
      "cell_type": "markdown",
      "metadata": {},
      "source": [
        "> 시각화"
      ]
    },
    {
      "cell_type": "code",
      "execution_count": null,
      "metadata": {
        "id": "YtfvRHLcnfc1"
      },
      "outputs": [],
      "source": [
        "import seaborn as sns\n",
        "import matplotlib.pyplot as plt\n",
        "\n",
        "plt.style.use(\"default\")\n",
        "\n",
        "map = sns.lmplot(x='x', y='y', data=df, fit_reg=False)\n",
        "map.figure.set_size_inches(10, 7)\n",
        "plt.show();"
      ]
    },
    {
      "attachments": {},
      "cell_type": "markdown",
      "metadata": {
        "id": "n6GqkGGRcw11"
      },
      "source": [
        "### 4. Scikit-learn을 이용한 군집화"
      ]
    },
    {
      "cell_type": "markdown",
      "metadata": {},
      "source": [
        "> 계층적 군집화(Hierarchical Clustering)와 비계층적 군집화(Partitional Clustering)"
      ]
    },
    {
      "cell_type": "markdown",
      "metadata": {},
      "source": [
        ">> 계층적 군집화\n",
        "* 계층적 군집화란 개별 개체들을 유사한 개체나 그룹과 통합해 군집화를 수행하는 알고리즘\n",
        "* 비계층적 군집화와는 달리 군집 수를 지정하지 않아도 군집화를 할 수 있는 것이 장점  \n",
        "* 계층적 군집화는 모든 개체간 거리나 유사도가 미리 계산되어 있어야만 하며, 계산복잡도도 비계층적 군집화보다 큼"
      ]
    },
    {
      "cell_type": "markdown",
      "metadata": {},
      "source": [
        ">> 비계층적 군집화\n",
        "* 비계층적 군집화는 나눌 클러스터 개수를 지정해 각 개체가 어느 클러스터에 속하는 지를 결정\n",
        "* 계층적 군집화보다 계산 복잡도가 작기 때문에 대량의 데이터에 유리하나, 클러스터 개수에 따라 군집화 성능이 크게 좌우되기 때문에 조정이 필요"
      ]
    },
    {
      "cell_type": "markdown",
      "metadata": {},
      "source": [
        "<img src='images/clustering1.png' width='550px'>  <img src='images/clustering2.png' width='300px'><br>\n",
        "................................................<계층적 군집화>..........................................................................................<비계층적 군집화>..........."
      ]
    },
    {
      "cell_type": "markdown",
      "metadata": {},
      "source": [
        "> 대표적인 비계층적 군집화 알고리즘인 kmeans를 사용해 실습"
      ]
    },
    {
      "attachments": {},
      "cell_type": "markdown",
      "metadata": {},
      "source": [
        ">> K-Means 클러스터링 개념\n",
        "- 비지도 학습 알고리즘으로 사전에 클러스터 개수 k와 초기값을 입력하면 각 데이터의 그룹을 할당해 나가는 알고리즘"
      ]
    },
    {
      "attachments": {},
      "cell_type": "markdown",
      "metadata": {},
      "source": [
        "1. 일단 K개의 임의의 중심점(centroid)을 배치하고, 각 데이터들을 가장 가까운 중심점으로 할당한다. (일종의 군집을 형성한다.)"
      ]
    },
    {
      "attachments": {},
      "cell_type": "markdown",
      "metadata": {},
      "source": [
        "<img src='images/k-means1.png'><img src='images/k-means2.png'>\n",
        "\n",
        "###### .................................<군집화 전 데이터 포인트들>.............................................................<군집수를 3개로 정하고 랜덤하게 군집 중심들 배치>"
      ]
    },
    {
      "attachments": {},
      "cell_type": "markdown",
      "metadata": {},
      "source": [
        "2.데이터 포인트들과 Centroid들 간 유클리드 거리를 계산하며 Centroid들의 위치를 계속 수정한다. \n",
        "- 각각의 데이터 포인트와 Centroid 간 유클리드 거리를 계산한다.\n",
        "-  가장 짧은 거리의 Centroid로 데이터 포인트를 할당한다."
      ]
    },
    {
      "attachments": {},
      "cell_type": "markdown",
      "metadata": {},
      "source": [
        "<img src='images/k-means3.png'>\n",
        "\n",
        "###### ....<모든 데이터 포인트들을 가까운 군집(클러스터)에 할당>"
      ]
    },
    {
      "attachments": {},
      "cell_type": "markdown",
      "metadata": {},
      "source": [
        "- 데이터 포인트들의 배정이 끝난 후, Centroid들을 배정된 데이터 포인트의 평균값으로 이동시킨다."
      ]
    },
    {
      "attachments": {},
      "cell_type": "markdown",
      "metadata": {},
      "source": [
        "<img src='images/k-means4.png'>\n",
        "\n",
        "###### .....................................<Centroid 위치 변경 전>...................................................................<데이터 포인트들의 평균 값으로 Centroid 위치 변경 후>"
      ]
    },
    {
      "attachments": {},
      "cell_type": "markdown",
      "metadata": {},
      "source": [
        "- Centroid들이 더 이상 움직이지 않을 때까지 반복한다."
      ]
    },
    {
      "attachments": {},
      "cell_type": "markdown",
      "metadata": {},
      "source": [
        "<img src='images/k-means5.png'><img src='images/k-means6.png'>\n",
        "\n",
        "###### ....<변경된 Centroid 위치로 다시 거리를 계산하여 클러스터에 할당>.........................<Centroid 위치가 변경되지 않을 때까지 반복>"
      ]
    },
    {
      "attachments": {},
      "cell_type": "markdown",
      "metadata": {},
      "source": [
        "  ###### * 출처 : https://studying-haeung.tistory.com/6"
      ]
    },
    {
      "attachments": {},
      "cell_type": "markdown",
      "metadata": {},
      "source": [
        ">> KMeans 객체 생성"
      ]
    },
    {
      "cell_type": "code",
      "execution_count": null,
      "metadata": {
        "id": "UT86aH3GFcZR"
      },
      "outputs": [],
      "source": []
    },
    {
      "attachments": {},
      "cell_type": "markdown",
      "metadata": {},
      "source": [
        ">> 어떤 클러스트에 속하는지 클러스터 인덱스 번호 출력"
      ]
    },
    {
      "cell_type": "code",
      "execution_count": null,
      "metadata": {},
      "outputs": [],
      "source": []
    },
    {
      "attachments": {},
      "cell_type": "markdown",
      "metadata": {},
      "source": [
        ">> 데이터 프레임으로 변환"
      ]
    },
    {
      "cell_type": "code",
      "execution_count": null,
      "metadata": {
        "id": "-ns_fXaVoaaW"
      },
      "outputs": [],
      "source": []
    },
    {
      "attachments": {},
      "cell_type": "markdown",
      "metadata": {},
      "source": [
        ">> 시각화"
      ]
    },
    {
      "cell_type": "code",
      "execution_count": null,
      "metadata": {
        "id": "FMq-oMFiFceO"
      },
      "outputs": [],
      "source": [
        "map = sns.lmplot(x='x', y='y', data = results, fit_reg = False, hue = \"predict\")\n",
        "map.figure.set_size_inches(10, 7)\n",
        "plt.show()"
      ]
    }
  ],
  "metadata": {
    "colab": {
      "provenance": []
    },
    "kernelspec": {
      "display_name": "Python 3.9.10 64-bit",
      "language": "python",
      "name": "python3"
    },
    "language_info": {
      "codemirror_mode": {
        "name": "ipython",
        "version": 3
      },
      "file_extension": ".py",
      "mimetype": "text/x-python",
      "name": "python",
      "nbconvert_exporter": "python",
      "pygments_lexer": "ipython3",
      "version": "3.9.10"
    },
    "vscode": {
      "interpreter": {
        "hash": "a86e7cc0d3fd2b3984d90a12bd1fbcf5461ee2e2e08ec83f39bc9fc9adb9109f"
      }
    }
  },
  "nbformat": 4,
  "nbformat_minor": 0
}
