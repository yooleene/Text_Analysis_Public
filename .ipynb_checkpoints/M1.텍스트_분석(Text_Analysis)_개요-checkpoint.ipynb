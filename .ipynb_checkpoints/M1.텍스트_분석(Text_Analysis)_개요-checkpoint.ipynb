{
 "cells": [
  {
   "cell_type": "markdown",
   "metadata": {},
   "source": [
    "## <b>Chapter 1.텍스트 분석(Text Analysis) 개요</b>"
   ]
  },
  {
   "cell_type": "markdown",
   "metadata": {},
   "source": [
    "### 1. 텍스트 분석의 개념"
   ]
  },
  {
   "cell_type": "markdown",
   "metadata": {},
   "source": [
    "- 텍스트 분석은 비정형 데이터 마이닝의 유형중 하나이다.\n",
    "- 비정형 및 반정형 데이터에 대하여 자연어 처리 기술과 문서처리 기술을 적용하여 유용한 정보를 추출, 가공하는 것이다."
   ]
  },
  {
   "cell_type": "markdown",
   "metadata": {},
   "source": [
    "### 2. 텍스트 분석의 배경"
   ]
  },
  {
   "cell_type": "markdown",
   "metadata": {},
   "source": [
    "- 최근 비정형 데이터가 폭발적으로 증가하고 있다. \n",
    "- IDC(International Data Corporation)에서는 세계에서 생성, 수집, 소비되는 데이터 양이 2020년 50ZB(제타바이트)에서 2025년에는 175ZB까지 폭증할 것이라 전망한다."
   ]
  },
  {
   "cell_type": "markdown",
   "metadata": {},
   "source": [
    "- 데이터 사용 전망\n",
    "\n",
    "     <img src='images/idc_data.png' width='980px' height='500'>\n",
    "   \n",
    "     - 1ZB = 1TB HDD 10억 7,374만개 / 약 80%는 비정형 데이터\n",
    "     ###### * 출처 : https://blog.his21.co.kr/582"
   ]
  },
  {
   "cell_type": "markdown",
   "metadata": {},
   "source": [
    "### 3. 텍스트 분석의 과정"
   ]
  },
  {
   "cell_type": "markdown",
   "metadata": {},
   "source": [
    "- 텍스트 분석은 일반적으로 3단계의 프로세스로 진행한다.\n",
    "\n",
    "   <img src='images/step.png' width='980px' height='500'>\n",
    "   \n",
    "     ###### * 출처 : https://www.smu.ac.kr/flexer/index.jsp?ftype=pdf&attachNo=495514"
   ]
  }
 ],
 "metadata": {
  "colab": {
   "provenance": []
  },
  "kernelspec": {
   "display_name": "Python 3 (ipykernel)",
   "language": "python",
   "name": "python3"
  },
  "language_info": {
   "codemirror_mode": {
    "name": "ipython",
    "version": 3
   },
   "file_extension": ".py",
   "mimetype": "text/x-python",
   "name": "python",
   "nbconvert_exporter": "python",
   "pygments_lexer": "ipython3",
   "version": "3.8.10"
  },
  "vscode": {
   "interpreter": {
    "hash": "e2782e0ab7cab974e8fb2dfc8cec048a29dc3b50e54743df0c4a34ac41b2be7e"
   }
  }
 },
 "nbformat": 4,
 "nbformat_minor": 1
}
